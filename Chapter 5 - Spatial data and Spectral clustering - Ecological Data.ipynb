{
 "cells": [
  {
   "cell_type": "markdown",
   "id": "131bd055-2fd6-407e-a760-f807c43008ee",
   "metadata": {
    "editable": true,
    "slideshow": {
     "slide_type": ""
    },
    "tags": []
   },
   "source": [
    "# Spectral clustering in Spatial data\n",
    "\n",
    "This chapter introduces ecological data collection methods, such as satellite tagging, trap cameras, and drone imaging, used to monitor animal migrations, plant diseases, and ecosystem health. It then explores how spectral graph clustering can be applied to analyze spatial ecological data—like snake capture counts and survey texts—to identify meaningful subpopulations and patterns. The focus is on using graph-theoretic tools to inform conservation, agriculture, and public safety strategies."
   ]
  },
  {
   "cell_type": "markdown",
   "id": "f72a78aa-2b33-435e-bad5-f9f1adc90144",
   "metadata": {
    "jp-MarkdownHeadingCollapsed": true
   },
   "source": [
    "## 1. Definitions\n",
    "\n",
    "**Spectral clustering** in graph theory groups nodes into clusters using the **eigenvalues and eigenvectors** of a matrix (typically the Laplacian) that represents the graph's structure.\n",
    "\n",
    "It uses the **spectrum (eigenvalues)** of a graph's Laplacian matrix to **detect communities or clusters** by projecting the graph into a lower-dimensional space where clustering (e.g., with k-means) becomes easier.\n",
    "\n",
    "It captures **connectivity patterns**, so nodes with strong connections (edges) end up in the same cluster—even in non-convex or complex structures.\n"
   ]
  },
  {
   "cell_type": "markdown",
   "id": "b6b837f9-bd24-4a89-a3b8-a1c435315538",
   "metadata": {},
   "source": [
    "**Connectivity Concepts**:\n",
    "  * A *connected* network has paths between all vertex pairs. You can reach from one node to the other by following the edges. \n",
    "  * A <u>*cut*</u> is a way of dividing the graph's nodes into two (or more) disjoint subsets by removing some edges. A <u>*minimum cut*</u> is the smallest set of edges whose removal disconnects the graph (i.e., splits it into at least two parts).\n",
    "  * Spectral clustering often seeks to find good cuts in a graph—ideally ones that split the network into clusters with strong internal connections and weak connections between groups. It relates closely to the \"normalized cut\" concept, which generalizes the minimum cut while avoiding trivial or imbalanced splits.\n",
    "\n",
    "\n",
    "\n",
    "**Laplacian Matrix (L = D - A)**: \n",
    "* *D* : Built from the degree matrix (Diagonal matrix representing the degree of each node)\n",
    "* *A* : Adjacency matrix tells you if nodes are connected (edges matrix)\n",
    "* *L* : Encodes network connectivity, including connected components and cut strengths.\n",
    "\n",
    "\n",
    "\n",
    "  \n",
    "**Spectral Decomposition**:\n",
    "  * Performed on the Laplacian matrix to obtain **eigenvalues** and **eigenvectors** (the network spectrum).\n",
    "  * The **second smallest eigenvalue** is the *Fiedler value*, indicating network connectivity.\n",
    "  * The corresponding **eigenvector** is used to split the network into two clusters.\n",
    "\n",
    "\n",
    "**Spectral Clustering**:\n",
    "\n",
    "  * Repeated partitioning based on eigenvectors allows the formation of multiple clusters.\n",
    "  * Useful in ecological applications to identify animal migration zones, isolated populations, or vegetation/crop disease patterns.\n",
    "\n",
    "**Laplacian**\n",
    "* Laplace studied variability in functions, it is sort of a second order derivative to functions. It will tell you what is happening in your vicinity, hence we aim to find the optimal cuts, where strongly connected and similar nodes stay close to each other. "
   ]
  },
  {
   "cell_type": "markdown",
   "id": "e33adc57-51f5-41f8-9fd7-26ef771829c4",
   "metadata": {
    "jp-MarkdownHeadingCollapsed": true
   },
   "source": [
    "## 2. Build the graph "
   ]
  },
  {
   "cell_type": "code",
   "execution_count": 1,
   "id": "6237b0d4-87ed-436c-b4de-2a79fe5ed653",
   "metadata": {},
   "outputs": [],
   "source": [
    "#create snake area network adjacency matrix\n",
    "import numpy as np\n",
    "import networkx as nx\n",
    "np.random.seed(0)\n",
    "adj_mat = [[1,1,1,0,0,0,1],\n",
    "[1,1,1,0,0,0,0],\n",
    "[1,1,1,0,0,0,0],\n",
    "[0,0,0,1,1,1,0],\n",
    "[0,0,0,1,1,1,0],\n",
    "[0,0,0,1,1,1,1],\n",
    "[1,0,0,0,0,1,1]]\n",
    "adj_mat = np.array(adj_mat)"
   ]
  },
  {
   "cell_type": "code",
   "execution_count": 2,
   "id": "61451da3-5f09-4b0e-a086-f6f3990763ac",
   "metadata": {},
   "outputs": [],
   "source": [
    "#create spatial weight matrix\n",
    "weights_total = [[1,1,1,0,0,0,1],\n",
    "[1,1,1,0,0,0,0],\n",
    "[1,1,1,0,0,0,0],\n",
    "[0,0,0,1,1,1,1],\n",
    "[0,0,0,1,1,1,1],\n",
    "[0,0,0,1,1,1,1],\n",
    "[1,0,0,1,1,1,1]]\n",
    "weights_total = np.array(weights_total)\n",
    "adj_mat_w=np.multiply(adj_mat,weights_total)"
   ]
  },
  {
   "cell_type": "code",
   "execution_count": 3,
   "id": "45ed5163-c44c-47ad-9110-cc723574eaa3",
   "metadata": {},
   "outputs": [
    {
     "data": {
      "text/plain": [
       "array([[1, 1, 1, 0, 0, 0, 1],\n",
       "       [1, 1, 1, 0, 0, 0, 0],\n",
       "       [1, 1, 1, 0, 0, 0, 0],\n",
       "       [0, 0, 0, 1, 1, 1, 0],\n",
       "       [0, 0, 0, 1, 1, 1, 0],\n",
       "       [0, 0, 0, 1, 1, 1, 1],\n",
       "       [1, 0, 0, 0, 0, 1, 1]])"
      ]
     },
     "execution_count": 3,
     "metadata": {},
     "output_type": "execute_result"
    }
   ],
   "source": [
    "adj_mat_w"
   ]
  },
  {
   "cell_type": "markdown",
   "id": "6b005f33-51e7-41ec-9f00-885292f95b85",
   "metadata": {},
   "source": [
    "## 3. Spectral clustering implementation"
   ]
  },
  {
   "cell_type": "markdown",
   "id": "30fb711c-2ab0-42c4-9787-418e349eaf32",
   "metadata": {},
   "source": [
    "### Using NetworkX"
   ]
  },
  {
   "cell_type": "code",
   "execution_count": 4,
   "id": "34fe3abc-66e2-488b-b853-66fa4315352c",
   "metadata": {},
   "outputs": [],
   "source": [
    "#explore degree and Laplacian matrices\n",
    "degree_matrix=np.diag(adj_mat_w.sum(axis=1))\n",
    "laplacian_matrix=degree_matrix-adj_mat_w"
   ]
  },
  {
   "cell_type": "code",
   "execution_count": 5,
   "id": "9d8e0577-1efc-4df5-a8a6-4ee52e728141",
   "metadata": {},
   "outputs": [
    {
     "name": "stdout",
     "output_type": "stream",
     "text": [
      "[[4 0 0 0 0 0 0]\n",
      " [0 3 0 0 0 0 0]\n",
      " [0 0 3 0 0 0 0]\n",
      " [0 0 0 3 0 0 0]\n",
      " [0 0 0 0 3 0 0]\n",
      " [0 0 0 0 0 4 0]\n",
      " [0 0 0 0 0 0 3]]\n"
     ]
    }
   ],
   "source": [
    "print(degree_matrix)"
   ]
  },
  {
   "cell_type": "code",
   "execution_count": 6,
   "id": "fb6cffaf-ac92-43b8-9d84-ba051c180aa1",
   "metadata": {},
   "outputs": [
    {
     "name": "stdout",
     "output_type": "stream",
     "text": [
      "[[ 3 -1 -1  0  0  0 -1]\n",
      " [-1  2 -1  0  0  0  0]\n",
      " [-1 -1  2  0  0  0  0]\n",
      " [ 0  0  0  2 -1 -1  0]\n",
      " [ 0  0  0 -1  2 -1  0]\n",
      " [ 0  0  0 -1 -1  3 -1]\n",
      " [-1  0  0  0  0 -1  2]]\n"
     ]
    }
   ],
   "source": [
    "print(laplacian_matrix)"
   ]
  },
  {
   "cell_type": "code",
   "execution_count": 7,
   "id": "a9453ee9-8731-4d6d-b47a-8236f7f2144e",
   "metadata": {
    "scrolled": true
   },
   "outputs": [],
   "source": [
    "#define Fiedler vector and obtain clustering\n",
    "G = nx.from_numpy_array(adj_mat_w)\n",
    "ev = nx.linalg.algebraicconnectivity.fiedler_vector(G)\n",
    "labels = [0 if v < 0 else 1 for v in ev]\n"
   ]
  },
  {
   "cell_type": "code",
   "execution_count": 8,
   "id": "59a42386-fd46-48f5-b892-6e295647d431",
   "metadata": {},
   "outputs": [
    {
     "data": {
      "image/png": "[encoded data removed]",
      "text/plain": [
       "<Figure size 640x480 with 1 Axes>"
      ]
     },
     "metadata": {},
     "output_type": "display_data"
    }
   ],
   "source": [
    "nx.draw(G,with_labels=True, node_color=np.array(labels))"
   ]
  },
  {
   "cell_type": "markdown",
   "id": "fde3b372-dad2-4bb0-be5f-68ffa235b7ef",
   "metadata": {},
   "source": [
    "### Using Sklearn"
   ]
  },
  {
   "cell_type": "markdown",
   "id": "ad9fe744-722b-4837-8af5-7f9091d48839",
   "metadata": {},
   "source": [
    "**Semi-supervised learning** is an approach where we use clustering algorithms to generate labels and then use them to train other models. Spectral clustering can be implemented to generate such labels"
   ]
  },
  {
   "cell_type": "code",
   "execution_count": 9,
   "id": "3a8ad60e-2402-4be7-b4b7-1f2e2f03f963",
   "metadata": {},
   "outputs": [
    {
     "data": {
      "image/png": "[encoded data removed]",
      "text/plain": [
       "<Figure size 640x480 with 1 Axes>"
      ]
     },
     "metadata": {},
     "output_type": "display_data"
    }
   ],
   "source": [
    "#perform spectral clustering with sklearn\n",
    "from sklearn.cluster import SpectralClustering\n",
    "from sklearn import metrics\n",
    "sc = SpectralClustering(3, affinity='precomputed', n_init=100)\n",
    "sp_clust=sc.fit(adj_mat_w)\n",
    "sc_labels=sp_clust.labels_\n",
    "\n",
    "nx.draw(G,with_labels=True, node_color=sc_labels)"
   ]
  },
  {
   "cell_type": "markdown",
   "id": "de77148a-6e0c-492c-ba66-24757bcd4d91",
   "metadata": {},
   "source": [
    "### Spectral clustering on text notes"
   ]
  },
  {
   "cell_type": "code",
   "execution_count": 1,
   "id": "dc704ac2-1e8c-43cc-818c-72aa7f0b0221",
   "metadata": {},
   "outputs": [],
   "source": [
    "#set up needed packages\n",
    "import pandas as pd\n",
    "import numpy as np\n",
    "import os\n",
    "from sentence_transformers import SentenceTransformer\n",
    "\n",
    "#import first network's data\n",
    "File =\"/home/sako/Data science lessons/Graph Theory/Modern-Graph-Theory-Algorithms-with-Python-main/data/SC_Notes.csv\"\n",
    "pwd = os.getcwd()\n",
    "os.chdir(os.path.dirname(File))\n",
    "mydata = pd.read_csv(os.path.basename(File),encoding='latin1')"
   ]
  },
  {
   "cell_type": "code",
   "execution_count": 2,
   "id": "b0a384bf-0954-484d-bc51-6d8e019a478f",
   "metadata": {},
   "outputs": [
    {
     "data": {
      "text/html": [
       "<div>\n",
       "<style scoped>\n",
       "    .dataframe tbody tr th:only-of-type {\n",
       "        vertical-align: middle;\n",
       "    }\n",
       "\n",
       "    .dataframe tbody tr th {\n",
       "        vertical-align: top;\n",
       "    }\n",
       "\n",
       "    .dataframe thead th {\n",
       "        text-align: right;\n",
       "    }\n",
       "</style>\n",
       "<table border=\"1\" class=\"dataframe\">\n",
       "  <thead>\n",
       "    <tr style=\"text-align: right;\">\n",
       "      <th></th>\n",
       "      <th>Notes</th>\n",
       "      <th>Type</th>\n",
       "    </tr>\n",
       "  </thead>\n",
       "  <tbody>\n",
       "    <tr>\n",
       "      <th>0</th>\n",
       "      <td>Mangrove ecosystem. Numerous butterflies, liza...</td>\n",
       "      <td>healthy</td>\n",
       "    </tr>\n",
       "    <tr>\n",
       "      <th>1</th>\n",
       "      <td>Tropical pines. Scat shows raccoon and coyote ...</td>\n",
       "      <td>healthy</td>\n",
       "    </tr>\n",
       "    <tr>\n",
       "      <th>2</th>\n",
       "      <td>Brown grass. Lots of children romping around. ...</td>\n",
       "      <td>unhealthy</td>\n",
       "    </tr>\n",
       "    <tr>\n",
       "      <th>3</th>\n",
       "      <td>Sewage and dumped barrels visible in lake. Den...</td>\n",
       "      <td>unhealthy</td>\n",
       "    </tr>\n",
       "    <tr>\n",
       "      <th>4</th>\n",
       "      <td>Gumbolimbo trees, green grass, and pines. Chip...</td>\n",
       "      <td>healthy</td>\n",
       "    </tr>\n",
       "    <tr>\n",
       "      <th>5</th>\n",
       "      <td>Large duck population. Many banyan trees. Most...</td>\n",
       "      <td>healthy</td>\n",
       "    </tr>\n",
       "    <tr>\n",
       "      <th>6</th>\n",
       "      <td>Green grass. Few trees. Not many animals. Down...</td>\n",
       "      <td>unhealthy</td>\n",
       "    </tr>\n",
       "    <tr>\n",
       "      <th>7</th>\n",
       "      <td>Brown grass. A few crocodiles. Few trees. Down...</td>\n",
       "      <td>unhealthy</td>\n",
       "    </tr>\n",
       "    <tr>\n",
       "      <th>8</th>\n",
       "      <td>Wide variety of tropical plants and trees. Lar...</td>\n",
       "      <td>healthy</td>\n",
       "    </tr>\n",
       "    <tr>\n",
       "      <th>9</th>\n",
       "      <td>Small grass area. Some saplings. Gravel paths....</td>\n",
       "      <td>unhealthy</td>\n",
       "    </tr>\n",
       "  </tbody>\n",
       "</table>\n",
       "</div>"
      ],
      "text/plain": [
       "                                               Notes       Type\n",
       "0  Mangrove ecosystem. Numerous butterflies, liza...    healthy\n",
       "1  Tropical pines. Scat shows raccoon and coyote ...    healthy\n",
       "2  Brown grass. Lots of children romping around. ...  unhealthy\n",
       "3  Sewage and dumped barrels visible in lake. Den...  unhealthy\n",
       "4  Gumbolimbo trees, green grass, and pines. Chip...    healthy\n",
       "5  Large duck population. Many banyan trees. Most...    healthy\n",
       "6  Green grass. Few trees. Not many animals. Down...  unhealthy\n",
       "7  Brown grass. A few crocodiles. Few trees. Down...  unhealthy\n",
       "8  Wide variety of tropical plants and trees. Lar...    healthy\n",
       "9  Small grass area. Some saplings. Gravel paths....  unhealthy"
      ]
     },
     "execution_count": 2,
     "metadata": {},
     "output_type": "execute_result"
    }
   ],
   "source": [
    "mydata"
   ]
  },
  {
   "cell_type": "code",
   "execution_count": 3,
   "id": "46d806d7-9643-43b6-bc02-98d27ebf4878",
   "metadata": {},
   "outputs": [],
   "source": [
    "# clean up empty values\n",
    "mydata['Notes']=mydata['Notes'].fillna(value=\".\")\n",
    "\n",
    "#strip to text for input into BERT model\n",
    "text_list=list(mydata.Notes)"
   ]
  },
  {
   "cell_type": "code",
   "execution_count": 4,
   "id": "4094638a-ba57-4c8b-bae2-19cde717bf6e",
   "metadata": {},
   "outputs": [],
   "source": [
    "#get BERT--768 vectors;\n",
    "# You might need to install sentence-transformer & hf-xet\n",
    "sbert_model1 = SentenceTransformer('all-mpnet-base-v2')\n",
    "\n",
    "#encode data with BERT\n",
    "encoded_text1=sbert_model1.encode(text_list)"
   ]
  },
  {
   "cell_type": "code",
   "execution_count": 5,
   "id": "e1d8036a-f6fb-4702-b526-b97f2465493b",
   "metadata": {},
   "outputs": [
    {
     "data": {
      "text/plain": [
       "(10, 768)"
      ]
     },
     "execution_count": 5,
     "metadata": {},
     "output_type": "execute_result"
    }
   ],
   "source": [
    "encoded_text1.shape"
   ]
  },
  {
   "cell_type": "code",
   "execution_count": 6,
   "id": "5154052a-ab14-46bb-a5c6-2dab566e69fa",
   "metadata": {},
   "outputs": [],
   "source": [
    "#make nearest neighbors graph to create adjacency matrix\n",
    "from sklearn.neighbors import kneighbors_graph\n",
    "n_adj = kneighbors_graph(encoded_text1, n_neighbors=3).toarray()"
   ]
  },
  {
   "cell_type": "code",
   "execution_count": 7,
   "id": "858ec425-fe76-464c-bec9-26cd9ed6f858",
   "metadata": {},
   "outputs": [
    {
     "data": {
      "text/plain": [
       "array([[0., 0., 0., 1., 0., 1., 0., 0., 1., 0.],\n",
       "       [0., 0., 0., 0., 1., 1., 0., 0., 1., 0.],\n",
       "       [0., 0., 0., 0., 0., 0., 1., 1., 0., 1.],\n",
       "       [1., 0., 0., 0., 0., 1., 0., 1., 0., 0.],\n",
       "       [0., 1., 0., 0., 0., 1., 1., 0., 0., 0.],\n",
       "       [1., 0., 0., 0., 1., 0., 0., 0., 1., 0.],\n",
       "       [0., 0., 1., 0., 0., 1., 0., 1., 0., 0.],\n",
       "       [0., 0., 1., 1., 0., 0., 1., 0., 0., 0.],\n",
       "       [1., 0., 0., 0., 1., 1., 0., 0., 0., 0.],\n",
       "       [0., 0., 1., 0., 0., 0., 1., 1., 0., 0.]])"
      ]
     },
     "execution_count": 7,
     "metadata": {},
     "output_type": "execute_result"
    }
   ],
   "source": [
    "n_adj"
   ]
  },
  {
   "cell_type": "code",
   "execution_count": 8,
   "id": "c72c0e22-022e-43fe-8fed-4b110be482ce",
   "metadata": {},
   "outputs": [
    {
     "name": "stderr",
     "output_type": "stream",
     "text": [
      "/home/sako/anaconda3/lib/python3.11/site-packages/sklearn/manifold/_spectral_embedding.py:248: UserWarning: Array is not symmetric, and will be converted to symmetric by average with its transpose.\n",
      "  adjacency = check_symmetric(adjacency)\n"
     ]
    },
    {
     "name": "stdout",
     "output_type": "stream",
     "text": [
      "[1 1 0 1 1 1 0 0 1 0]\n"
     ]
    }
   ],
   "source": [
    "#run spectral clustering\n",
    "from sklearn.cluster import SpectralClustering\n",
    "from sklearn import metrics\n",
    "sc = SpectralClustering(2, affinity='precomputed', n_init=100)\n",
    "sp_clust=sc.fit(n_adj)\n",
    "sc_labels=sp_clust.labels_\n",
    "print(sc_labels)"
   ]
  },
  {
   "cell_type": "code",
   "execution_count": 9,
   "id": "ca7cd343-e2b5-4434-af79-e5231cb5c2e7",
   "metadata": {},
   "outputs": [],
   "source": [
    "mydata['sc_labels'] = sc_labels"
   ]
  },
  {
   "cell_type": "code",
   "execution_count": 10,
   "id": "616c6813-0132-459c-afc0-2688512c044e",
   "metadata": {},
   "outputs": [],
   "source": [
    "mydata.index = range(1,11)"
   ]
  },
  {
   "cell_type": "code",
   "execution_count": 11,
   "id": "d587c687-0ab7-4221-9734-3104c3f80754",
   "metadata": {},
   "outputs": [
    {
     "name": "stdout",
     "output_type": "stream",
     "text": [
      "                                                                                                               Notes       Type  sc_labels\n",
      "1                      Mangrove ecosystem. Numerous butterflies, lizards, and insects. Gumbolimbo trees. Soggy soil.    healthy          1\n",
      "2                            Tropical pines. Scat shows raccoon and coyote populations here. Recent controlled burn.    healthy          1\n",
      "3                                             Brown grass. Lots of children romping around. Damaged hibiscus plants.  unhealthy          0\n",
      "4                              Sewage and dumped barrels visible in lake. Dense mangroves. Fish population. Lizards.  unhealthy          1\n",
      "5                    Gumbolimbo trees, green grass, and pines. Chipmunks and squirrels sighted. Strong root systems.    healthy          1\n",
      "6                 Large duck population. Many banyan trees. Mostly green grass. Some gumbolimbo trees. Some iguanas.    healthy          1\n",
      "7               Green grass. Few trees. Not many animals. Downed branches. Many children playing in protected areas.  unhealthy          0\n",
      "8                               Brown grass. A few crocodiles. Few trees. Downed branches. Some parking lot run-off.  unhealthy          0\n",
      "9   Wide variety of tropical plants and trees. Large lizard and iguana population. Some parrots and turkey vultures.    healthy          1\n",
      "10            Small grass area. Some saplings. Gravel paths. Many cars parked in non-parking zones. Lots of run-off.  unhealthy          0\n"
     ]
    }
   ],
   "source": [
    "print(mydata.to_string())"
   ]
  },
  {
   "cell_type": "code",
   "execution_count": 12,
   "id": "1ac318a4-889d-47f9-b1f0-d67660f4d73b",
   "metadata": {},
   "outputs": [
    {
     "data": {
      "text/html": [
       "<div>\n",
       "<style scoped>\n",
       "    .dataframe tbody tr th:only-of-type {\n",
       "        vertical-align: middle;\n",
       "    }\n",
       "\n",
       "    .dataframe tbody tr th {\n",
       "        vertical-align: top;\n",
       "    }\n",
       "\n",
       "    .dataframe thead th {\n",
       "        text-align: right;\n",
       "    }\n",
       "</style>\n",
       "<table border=\"1\" class=\"dataframe\">\n",
       "  <thead>\n",
       "    <tr style=\"text-align: right;\">\n",
       "      <th></th>\n",
       "      <th>Notes</th>\n",
       "      <th>Type</th>\n",
       "      <th>sc_labels</th>\n",
       "      <th>marker</th>\n",
       "    </tr>\n",
       "  </thead>\n",
       "  <tbody>\n",
       "    <tr>\n",
       "      <th>1</th>\n",
       "      <td>Mangrove ecosystem. Numerous butterflies, liza...</td>\n",
       "      <td>healthy</td>\n",
       "      <td>1</td>\n",
       "      <td>1_H</td>\n",
       "    </tr>\n",
       "    <tr>\n",
       "      <th>2</th>\n",
       "      <td>Tropical pines. Scat shows raccoon and coyote ...</td>\n",
       "      <td>healthy</td>\n",
       "      <td>1</td>\n",
       "      <td>2_H</td>\n",
       "    </tr>\n",
       "    <tr>\n",
       "      <th>3</th>\n",
       "      <td>Brown grass. Lots of children romping around. ...</td>\n",
       "      <td>unhealthy</td>\n",
       "      <td>0</td>\n",
       "      <td>3_UnH</td>\n",
       "    </tr>\n",
       "    <tr>\n",
       "      <th>4</th>\n",
       "      <td>Sewage and dumped barrels visible in lake. Den...</td>\n",
       "      <td>unhealthy</td>\n",
       "      <td>1</td>\n",
       "      <td>4_UnH</td>\n",
       "    </tr>\n",
       "    <tr>\n",
       "      <th>5</th>\n",
       "      <td>Gumbolimbo trees, green grass, and pines. Chip...</td>\n",
       "      <td>healthy</td>\n",
       "      <td>1</td>\n",
       "      <td>5_H</td>\n",
       "    </tr>\n",
       "    <tr>\n",
       "      <th>6</th>\n",
       "      <td>Large duck population. Many banyan trees. Most...</td>\n",
       "      <td>healthy</td>\n",
       "      <td>1</td>\n",
       "      <td>6_H</td>\n",
       "    </tr>\n",
       "    <tr>\n",
       "      <th>7</th>\n",
       "      <td>Green grass. Few trees. Not many animals. Down...</td>\n",
       "      <td>unhealthy</td>\n",
       "      <td>0</td>\n",
       "      <td>7_UnH</td>\n",
       "    </tr>\n",
       "    <tr>\n",
       "      <th>8</th>\n",
       "      <td>Brown grass. A few crocodiles. Few trees. Down...</td>\n",
       "      <td>unhealthy</td>\n",
       "      <td>0</td>\n",
       "      <td>8_UnH</td>\n",
       "    </tr>\n",
       "    <tr>\n",
       "      <th>9</th>\n",
       "      <td>Wide variety of tropical plants and trees. Lar...</td>\n",
       "      <td>healthy</td>\n",
       "      <td>1</td>\n",
       "      <td>9_H</td>\n",
       "    </tr>\n",
       "    <tr>\n",
       "      <th>10</th>\n",
       "      <td>Small grass area. Some saplings. Gravel paths....</td>\n",
       "      <td>unhealthy</td>\n",
       "      <td>0</td>\n",
       "      <td>10_UnH</td>\n",
       "    </tr>\n",
       "  </tbody>\n",
       "</table>\n",
       "</div>"
      ],
      "text/plain": [
       "                                                Notes       Type  sc_labels  \\\n",
       "1   Mangrove ecosystem. Numerous butterflies, liza...    healthy          1   \n",
       "2   Tropical pines. Scat shows raccoon and coyote ...    healthy          1   \n",
       "3   Brown grass. Lots of children romping around. ...  unhealthy          0   \n",
       "4   Sewage and dumped barrels visible in lake. Den...  unhealthy          1   \n",
       "5   Gumbolimbo trees, green grass, and pines. Chip...    healthy          1   \n",
       "6   Large duck population. Many banyan trees. Most...    healthy          1   \n",
       "7   Green grass. Few trees. Not many animals. Down...  unhealthy          0   \n",
       "8   Brown grass. A few crocodiles. Few trees. Down...  unhealthy          0   \n",
       "9   Wide variety of tropical plants and trees. Lar...    healthy          1   \n",
       "10  Small grass area. Some saplings. Gravel paths....  unhealthy          0   \n",
       "\n",
       "    marker  \n",
       "1      1_H  \n",
       "2      2_H  \n",
       "3    3_UnH  \n",
       "4    4_UnH  \n",
       "5      5_H  \n",
       "6      6_H  \n",
       "7    7_UnH  \n",
       "8    8_UnH  \n",
       "9      9_H  \n",
       "10  10_UnH  "
      ]
     },
     "execution_count": 12,
     "metadata": {},
     "output_type": "execute_result"
    }
   ],
   "source": [
    "mydata['marker']= mydata.index.astype(str)+\"_\"+mydata.Type.replace({\"healthy\":\"H\",\"unhealthy\":'UnH'})\n",
    "mydata"
   ]
  },
  {
   "cell_type": "code",
   "execution_count": 139,
   "id": "bf34f4de-f937-4106-b5fe-13d02f708427",
   "metadata": {},
   "outputs": [
    {
     "data": {
      "image/png": "[encoded data removed]",
      "text/plain": [
       "<Figure size 640x480 with 1 Axes>"
      ]
     },
     "metadata": {},
     "output_type": "display_data"
    }
   ],
   "source": [
    "import numpy as np\n",
    "import networkx as nx\n",
    "import matplotlib.pyplot as plt\n",
    "\n",
    "# Create graph from adjacency matrix\n",
    "G = nx.from_numpy_array(n_adj)\n",
    "\n",
    "labels = mydata['marker']\n",
    "\n",
    "# Relabel nodes using your predefined labels\n",
    "mapping = {i: label for i, label in enumerate(labels)}\n",
    "G = nx.relabel_nodes(G, mapping)\n",
    "\n",
    "# Draw the graph\n",
    "pos = nx.spring_layout(G)\n",
    "nx.draw(G, pos, with_labels=True, node_size=2500, node_color=sc_labels)\n",
    "plt.show()"
   ]
  },
  {
   "cell_type": "markdown",
   "id": "f52c40ac-c68c-4fde-8c71-e9f7ab5ecc86",
   "metadata": {},
   "source": [
    "**NOTE**: You can see that *node 4* for is \"unhealthy\" but still classified healthy. It's not always perfect, you can try changing the cluster size for the KNN, or use another embedder.\n"
   ]
  },
  {
   "cell_type": "markdown",
   "id": "1ee01fea-bc1a-4eaa-901e-9eab5e2e5cd7",
   "metadata": {},
   "source": [
    "### Train a model using the Semi-supervised labels"
   ]
  },
  {
   "cell_type": "code",
   "execution_count": 165,
   "id": "c4c14314-bf6a-477f-b886-f6dcc0e50edb",
   "metadata": {},
   "outputs": [],
   "source": [
    "#create training dataset for supervised learning\n",
    "#turn BERT embedding into array\n",
    "BERT_array1=np.array([x for x in encoded_text1])\n",
    "\n",
    "#convert to dataframes\n",
    "BERT_df1=pd.DataFrame(BERT_array1)\n",
    "BERT_df1.index  = range(1,11)"
   ]
  },
  {
   "cell_type": "code",
   "execution_count": 166,
   "id": "f80d026e-d38b-45b6-90bd-0d833a55f5e2",
   "metadata": {},
   "outputs": [],
   "source": [
    "#create KNN classifier and test accuracy\n",
    "from sklearn.neighbors import KNeighborsClassifier\n",
    "from sklearn.model_selection import train_test_split\n",
    "\n",
    "#get predictors and outcome\n",
    "BERT_df1['Type']=mydata['Type']\n",
    "df_train, df_test = train_test_split(BERT_df1,test_size=0.2, random_state=0)\n",
    "X = df_train.iloc[:,0:767]\n",
    "y = df_train.iloc[:,768]\n",
    "X_test = df_test.iloc[:,0:767]\n",
    "y_test = df_test.iloc[:,768]"
   ]
  },
  {
   "cell_type": "code",
   "execution_count": 169,
   "id": "ad472a90-076e-41b6-9881-00ca51045e1f",
   "metadata": {},
   "outputs": [
    {
     "data": {
      "text/html": [
       "<style>#sk-container-id-1 {color: black;background-color: white;}#sk-container-id-1 pre{padding: 0;}#sk-container-id-1 div.sk-toggleable {background-color: white;}#sk-container-id-1 label.sk-toggleable__label {cursor: pointer;display: block;width: 100%;margin-bottom: 0;padding: 0.3em;box-sizing: border-box;text-align: center;}#sk-container-id-1 label.sk-toggleable__label-arrow:before {content: \"▸\";float: left;margin-right: 0.25em;color: #696969;}#sk-container-id-1 label.sk-toggleable__label-arrow:hover:before {color: black;}#sk-container-id-1 div.sk-estimator:hover label.sk-toggleable__label-arrow:before {color: black;}#sk-container-id-1 div.sk-toggleable__content {max-height: 0;max-width: 0;overflow: hidden;text-align: left;background-color: #f0f8ff;}#sk-container-id-1 div.sk-toggleable__content pre {margin: 0.2em;color: black;border-radius: 0.25em;background-color: #f0f8ff;}#sk-container-id-1 input.sk-toggleable__control:checked~div.sk-toggleable__content {max-height: 200px;max-width: 100%;overflow: auto;}#sk-container-id-1 input.sk-toggleable__control:checked~label.sk-toggleable__label-arrow:before {content: \"▾\";}#sk-container-id-1 div.sk-estimator input.sk-toggleable__control:checked~label.sk-toggleable__label {background-color: #d4ebff;}#sk-container-id-1 div.sk-label input.sk-toggleable__control:checked~label.sk-toggleable__label {background-color: #d4ebff;}#sk-container-id-1 input.sk-hidden--visually {border: 0;clip: rect(1px 1px 1px 1px);clip: rect(1px, 1px, 1px, 1px);height: 1px;margin: -1px;overflow: hidden;padding: 0;position: absolute;width: 1px;}#sk-container-id-1 div.sk-estimator {font-family: monospace;background-color: #f0f8ff;border: 1px dotted black;border-radius: 0.25em;box-sizing: border-box;margin-bottom: 0.5em;}#sk-container-id-1 div.sk-estimator:hover {background-color: #d4ebff;}#sk-container-id-1 div.sk-parallel-item::after {content: \"\";width: 100%;border-bottom: 1px solid gray;flex-grow: 1;}#sk-container-id-1 div.sk-label:hover label.sk-toggleable__label {background-color: #d4ebff;}#sk-container-id-1 div.sk-serial::before {content: \"\";position: absolute;border-left: 1px solid gray;box-sizing: border-box;top: 0;bottom: 0;left: 50%;z-index: 0;}#sk-container-id-1 div.sk-serial {display: flex;flex-direction: column;align-items: center;background-color: white;padding-right: 0.2em;padding-left: 0.2em;position: relative;}#sk-container-id-1 div.sk-item {position: relative;z-index: 1;}#sk-container-id-1 div.sk-parallel {display: flex;align-items: stretch;justify-content: center;background-color: white;position: relative;}#sk-container-id-1 div.sk-item::before, #sk-container-id-1 div.sk-parallel-item::before {content: \"\";position: absolute;border-left: 1px solid gray;box-sizing: border-box;top: 0;bottom: 0;left: 50%;z-index: -1;}#sk-container-id-1 div.sk-parallel-item {display: flex;flex-direction: column;z-index: 1;position: relative;background-color: white;}#sk-container-id-1 div.sk-parallel-item:first-child::after {align-self: flex-end;width: 50%;}#sk-container-id-1 div.sk-parallel-item:last-child::after {align-self: flex-start;width: 50%;}#sk-container-id-1 div.sk-parallel-item:only-child::after {width: 0;}#sk-container-id-1 div.sk-dashed-wrapped {border: 1px dashed gray;margin: 0 0.4em 0.5em 0.4em;box-sizing: border-box;padding-bottom: 0.4em;background-color: white;}#sk-container-id-1 div.sk-label label {font-family: monospace;font-weight: bold;display: inline-block;line-height: 1.2em;}#sk-container-id-1 div.sk-label-container {text-align: center;}#sk-container-id-1 div.sk-container {/* jupyter's `normalize.less` sets `[hidden] { display: none; }` but bootstrap.min.css set `[hidden] { display: none !important; }` so we also need the `!important` here to be able to override the default hidden behavior on the sphinx rendered scikit-learn.org. See: https://github.com/scikit-learn/scikit-learn/issues/21755 */display: inline-block !important;position: relative;}#sk-container-id-1 div.sk-text-repr-fallback {display: none;}</style><div id=\"sk-container-id-1\" class=\"sk-top-container\"><div class=\"sk-text-repr-fallback\"><pre>KNeighborsClassifier(metric=&#x27;euclidean&#x27;, n_neighbors=3)</pre><b>In a Jupyter environment, please rerun this cell to show the HTML representation or trust the notebook. <br />On GitHub, the HTML representation is unable to render, please try loading this page with nbviewer.org.</b></div><div class=\"sk-container\" hidden><div class=\"sk-item\"><div class=\"sk-estimator sk-toggleable\"><input class=\"sk-toggleable__control sk-hidden--visually\" id=\"sk-estimator-id-1\" type=\"checkbox\" checked><label for=\"sk-estimator-id-1\" class=\"sk-toggleable__label sk-toggleable__label-arrow\">KNeighborsClassifier</label><div class=\"sk-toggleable__content\"><pre>KNeighborsClassifier(metric=&#x27;euclidean&#x27;, n_neighbors=3)</pre></div></div></div></div></div>"
      ],
      "text/plain": [
       "KNeighborsClassifier(metric='euclidean', n_neighbors=3)"
      ]
     },
     "execution_count": 169,
     "metadata": {},
     "output_type": "execute_result"
    }
   ],
   "source": [
    "#create KNN classifier and print accuracy\n",
    "eu=KNeighborsClassifier(n_neighbors=3,metric='euclidean')\n",
    "eu.fit(X.fillna(0),y.fillna(0))"
   ]
  },
  {
   "cell_type": "code",
   "execution_count": 170,
   "id": "4031e070-94bd-4a35-a945-5faa40a6144a",
   "metadata": {},
   "outputs": [
    {
     "name": "stdout",
     "output_type": "stream",
     "text": [
      "1.0\n"
     ]
    }
   ],
   "source": [
    "print(eu.score(X_test,y_test))"
   ]
  },
  {
   "cell_type": "markdown",
   "id": "b9716e6e-5ef4-46fc-a0e7-f9010c375bf1",
   "metadata": {},
   "source": [
    "Score show that it is perfect ... Butlet's not get ahead of ourselves"
   ]
  },
  {
   "cell_type": "markdown",
   "id": "43a5e766-ff98-4c53-8f96-1dac0e837bee",
   "metadata": {},
   "source": [
    "### Let's build a predictor"
   ]
  },
  {
   "cell_type": "code",
   "execution_count": 190,
   "id": "832e3da1-e772-48b4-8256-37102f9e6183",
   "metadata": {},
   "outputs": [],
   "source": [
    "sentences = [\n",
    "    \"The coral reefs in this marine reserve are thriving, supporting a diverse range of fish and algae.\",\n",
    "    \"Lush green forests with minimal human intervention offer a safe habitat for countless endangered species.\",\n",
    "    \"Wetlands naturally purify water by filtering out pollutants and providing shelter to migratory birds.\",\n",
    "    \"Urban parks with abundant trees improve air quality and provide vital green spaces for communities.\",\n",
    "    \"Organic farms that use crop rotation and composting help maintain long-term soil health.\",\n",
    "    \"The lake has become lifeless due to industrial waste dumping, with oxygen levels too low to support fish.\",\n",
    "    \"Years of illegal logging have left the once-vibrant rainforest fragmented and vulnerable to erosion.\",\n",
    "    \"Plastic pollution has choked marine life, with turtles and seabirds often found tangled or starved.\",\n",
    "    \"Excessive pesticide use has led to a dramatic decline in pollinators like bees and butterflies.\",\n",
    "    \"Smog from nearby factories has turned the city’s air toxic, causing respiratory problems in children.\"\n",
    "]\n",
    "\n",
    "ground_truths = np.array([\n",
    "    \"healthy\",\n",
    "    \"healthy\",\n",
    "    \"healthy\",\n",
    "    \"healthy\",\n",
    "    \"healthy\",\n",
    "    \"unhealthy\",\n",
    "    \"unhealthy\",\n",
    "    \"unhealthy\",\n",
    "    \"unhealthy\",\n",
    "    \"unhealthy\"\n",
    "])"
   ]
  },
  {
   "cell_type": "code",
   "execution_count": 184,
   "id": "6e988f8b-f567-480d-b011-3189f0cd5e61",
   "metadata": {},
   "outputs": [],
   "source": [
    "x_embd=sbert_model1.encode(sentences)"
   ]
  },
  {
   "cell_type": "code",
   "execution_count": 186,
   "id": "1bb06358-410a-468c-8086-573507b9e939",
   "metadata": {},
   "outputs": [
    {
     "data": {
      "text/plain": [
       "(10, 768)"
      ]
     },
     "execution_count": 186,
     "metadata": {},
     "output_type": "execute_result"
    }
   ],
   "source": [
    "x_embd.shape"
   ]
  },
  {
   "cell_type": "code",
   "execution_count": 195,
   "id": "b622aa66-dbd4-4f31-9ee5-97664bde4791",
   "metadata": {},
   "outputs": [
    {
     "data": {
      "text/plain": [
       "array(['healthy', 'healthy', 'healthy', 'unhealthy', 'healthy',\n",
       "       'unhealthy', 'healthy', 'unhealthy', 'unhealthy', 'unhealthy'],\n",
       "      dtype=object)"
      ]
     },
     "execution_count": 195,
     "metadata": {},
     "output_type": "execute_result"
    }
   ],
   "source": [
    "res = eu.predict(x_embd[:,0:767])\n",
    "res"
   ]
  },
  {
   "cell_type": "code",
   "execution_count": 197,
   "id": "daa3eea8-50cd-4cd3-87d9-84c06c60c330",
   "metadata": {},
   "outputs": [
    {
     "data": {
      "text/plain": [
       "0.8"
      ]
     },
     "execution_count": 197,
     "metadata": {},
     "output_type": "execute_result"
    }
   ],
   "source": [
    "(ground_truths == res).sum()/res.shape[0]"
   ]
  }
 ],
 "metadata": {
  "kernelspec": {
   "display_name": "Python 3 (ipykernel)",
   "language": "python",
   "name": "python3"
  },
  "language_info": {
   "codemirror_mode": {
    "name": "ipython",
    "version": 3
   },
   "file_extension": ".py",
   "mimetype": "text/x-python",
   "name": "python",
   "nbconvert_exporter": "python",
   "pygments_lexer": "ipython3",
   "version": "3.11.0"
  }
 },
 "nbformat": 4,
 "nbformat_minor": 5
}
